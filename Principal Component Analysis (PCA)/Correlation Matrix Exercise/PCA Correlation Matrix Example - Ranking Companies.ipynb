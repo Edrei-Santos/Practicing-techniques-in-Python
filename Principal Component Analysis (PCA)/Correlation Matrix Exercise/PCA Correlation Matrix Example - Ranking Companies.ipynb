{
 "cells": [
  {
   "cell_type": "markdown",
   "id": "70a30ee7",
   "metadata": {},
   "source": [
    "# Example of PCA using the correlation matrix\n",
    "\n",
    "Author: Edrei Santos"
   ]
  },
  {
   "cell_type": "code",
   "execution_count": 138,
   "id": "e9bda65a",
   "metadata": {},
   "outputs": [
    {
     "name": "stdout",
     "output_type": "stream",
     "text": [
      "[[ 9893   564 17689]\n",
      " [ 8776   389 17359]\n",
      " [13572  1103 18597]\n",
      " [ 6455   743  8745]\n",
      " [ 5129   203 14397]\n",
      " [ 5432   215  3467]\n",
      " [ 3807   385  4679]\n",
      " [ 3423   187  6754]\n",
      " [ 3708   127  2275]\n",
      " [ 3294   297  6754]\n",
      " [ 5433   432  5589]\n",
      " [ 6287   451  8972]]\n"
     ]
    }
   ],
   "source": [
    "# Importing data and libraries\n",
    "import numpy as np\n",
    "import polars as pl\n",
    "import scipy as sp\n",
    "\n",
    "data = pl.read_excel(\"dados_brutos_cap3_mingoti.xlsx\")\n",
    "data = data.drop(data.columns[0])\n",
    "data = data.to_numpy()\n",
    "\n",
    "print(data)"
   ]
  },
  {
   "cell_type": "markdown",
   "id": "609162e2",
   "metadata": {},
   "source": [
    "I will now check if the correlation matrix of the data pass a T-test at 5% of significance, or α = 0.05."
   ]
  },
  {
   "cell_type": "code",
   "execution_count": 139,
   "id": "fb3bbcce",
   "metadata": {},
   "outputs": [
    {
     "name": "stdout",
     "output_type": "stream",
     "text": [
      "Correlation Matrix \n",
      "\n",
      " [[1.         0.82734786 0.82625598]\n",
      " [0.82734786 1.         0.57650285]\n",
      " [0.82625598 0.57650285 1.        ]]\n",
      "\n",
      " P Values Matrix \n",
      "\n",
      " [[0.         0.00089716 0.00092409]\n",
      " [0.00089716 0.         0.04974535]\n",
      " [0.00092409 0.04974535 0.        ]]\n"
     ]
    }
   ],
   "source": [
    "corr_matrix = np.corrcoef(data, rowvar= False)\n",
    "print(\"Correlation Matrix \\n\\n\",corr_matrix)\n",
    "p_values = np.empty((3,3))\n",
    "for j in range(data.shape[1]):\n",
    "    for i in range(data.shape[1]):\n",
    "        temp = sp.stats.pearsonr(data[:,j], data[:,i])\n",
    "        p_values[j,i] = temp[1]\n",
    "print(\"\\n P Values Matrix \\n\\n\",p_values)"
   ]
  },
  {
   "cell_type": "markdown",
   "id": "028299cc",
   "metadata": {},
   "source": [
    "As we can see, all Correlation Values passed the α = 0.05 significance test. Next step is to get the eigvectors and values of the correlation matrix."
   ]
  },
  {
   "cell_type": "code",
   "execution_count": 140,
   "id": "e03812c1",
   "metadata": {},
   "outputs": [
    {
     "name": "stdout",
     "output_type": "stream",
     "text": [
      "Eigenvalues:  [2.49253211 0.08396976 0.42349813]\n",
      "Eigenvectors: \n",
      " [[ 0.61670267  0.78719515 -0.00126721]\n",
      " [ 0.55679445 -0.43733949 -0.70619694]\n",
      " [ 0.556469   -0.43480796  0.70801432]]\n"
     ]
    }
   ],
   "source": [
    "eigval , eigvec = np.linalg.eig(corr_matrix)\n",
    "print(\"Eigenvalues: \", eigval)\n",
    "print(\"Eigenvectors: \\n\", eigvec)"
   ]
  },
  {
   "cell_type": "markdown",
   "id": "210c2bc4",
   "metadata": {},
   "source": [
    "The selection method of getting the components is choosing the vectors that have values higher than 1. So we will only use the component of highest eigenvalue (2.5).\n",
    "\n",
    "Before we apply the vector to the dataset, we need to standardize the numbers of the matrix"
   ]
  },
  {
   "cell_type": "code",
   "execution_count": 141,
   "id": "85f8e2a7",
   "metadata": {},
   "outputs": [
    {
     "name": "stdout",
     "output_type": "stream",
     "text": [
      "[[ 1.2253401   0.52695535  1.43917645]\n",
      " [ 0.84782709 -0.13489048  1.38041699]\n",
      " [ 2.46873346  2.5654405   1.60085399]\n",
      " [ 0.06339763  1.20392908 -0.15338296]\n",
      " [-0.38475122 -0.83833805  0.85300633]\n",
      " [-0.28234616 -0.79295434 -1.0931782 ]\n",
      " [-0.83154818 -0.15001839 -0.87737073]\n",
      " [-0.96132884 -0.89884967 -0.50789837]\n",
      " [-0.86500725 -1.12576824 -1.30542449]\n",
      " [-1.00492703 -0.48283229 -0.50789837]\n",
      " [-0.28200819  0.02773449 -0.71533707]\n",
      " [ 0.00661859  0.09959204 -0.11296358]]\n"
     ]
    }
   ],
   "source": [
    "data_means = np.mean(data,0)\n",
    "data_std = np.std(data,0)\n",
    "data = (data - data_means) / data_std\n",
    "print(data)"
   ]
  },
  {
   "cell_type": "markdown",
   "id": "a159b1c5",
   "metadata": {},
   "source": [
    "Now that the data is standardized, I can apply the eigenvector of the component in the data."
   ]
  },
  {
   "cell_type": "code",
   "execution_count": 142,
   "id": "f7c7904a",
   "metadata": {},
   "outputs": [
    {
     "name": "stdout",
     "output_type": "stream",
     "text": [
      "[ 1.84993341e+00  1.21591023e+00  3.84172319e+00  6.24085655e-01\n",
      " -2.29387498e-01 -1.22395599e+00 -1.08457700e+00 -1.37595827e+00\n",
      " -1.88670206e+00 -1.17120922e+00 -5.56535700e-01 -3.32673327e-03]\n"
     ]
    }
   ],
   "source": [
    "data = data @ eigvec[:,0]\n",
    "print(data)"
   ]
  },
  {
   "cell_type": "code",
   "execution_count": 143,
   "id": "13565c2c",
   "metadata": {},
   "outputs": [
    {
     "data": {
      "text/html": [
       "<div><style>\n",
       ".dataframe > thead > tr,\n",
       ".dataframe > tbody > tr {\n",
       "  text-align: right;\n",
       "  white-space: pre-wrap;\n",
       "}\n",
       "</style>\n",
       "<small>shape: (12, 2)</small><table border=\"1\" class=\"dataframe\"><thead><tr><th>Company</th><th>Scores</th></tr><tr><td>i64</td><td>f64</td></tr></thead><tbody><tr><td>3</td><td>3.841723</td></tr><tr><td>1</td><td>1.849933</td></tr><tr><td>2</td><td>1.21591</td></tr><tr><td>4</td><td>0.624086</td></tr><tr><td>12</td><td>-0.003327</td></tr><tr><td>&hellip;</td><td>&hellip;</td></tr><tr><td>7</td><td>-1.084577</td></tr><tr><td>10</td><td>-1.171209</td></tr><tr><td>6</td><td>-1.223956</td></tr><tr><td>8</td><td>-1.375958</td></tr><tr><td>9</td><td>-1.886702</td></tr></tbody></table></div>"
      ],
      "text/plain": [
       "shape: (12, 2)\n",
       "┌─────────┬───────────┐\n",
       "│ Company ┆ Scores    │\n",
       "│ ---     ┆ ---       │\n",
       "│ i64     ┆ f64       │\n",
       "╞═════════╪═══════════╡\n",
       "│ 3       ┆ 3.841723  │\n",
       "│ 1       ┆ 1.849933  │\n",
       "│ 2       ┆ 1.21591   │\n",
       "│ 4       ┆ 0.624086  │\n",
       "│ 12      ┆ -0.003327 │\n",
       "│ …       ┆ …         │\n",
       "│ 7       ┆ -1.084577 │\n",
       "│ 10      ┆ -1.171209 │\n",
       "│ 6       ┆ -1.223956 │\n",
       "│ 8       ┆ -1.375958 │\n",
       "│ 9       ┆ -1.886702 │\n",
       "└─────────┴───────────┘"
      ]
     },
     "execution_count": 143,
     "metadata": {},
     "output_type": "execute_result"
    }
   ],
   "source": [
    "df = {\"Company\": range(data.shape[0]), \"Scores\": data}\n",
    "data = pl.DataFrame(df)\n",
    "data = data.with_columns(pl.col(\"Company\") + 1)\n",
    "data.sort(\"Scores\", descending= True)"
   ]
  },
  {
   "cell_type": "markdown",
   "id": "21992eb1",
   "metadata": {},
   "source": [
    "By this method, company 3 is the best, and company 9 is the worst."
   ]
  }
 ],
 "metadata": {
  "kernelspec": {
   "display_name": "Python 3",
   "language": "python",
   "name": "python3"
  },
  "language_info": {
   "codemirror_mode": {
    "name": "ipython",
    "version": 3
   },
   "file_extension": ".py",
   "mimetype": "text/x-python",
   "name": "python",
   "nbconvert_exporter": "python",
   "pygments_lexer": "ipython3",
   "version": "3.13.3"
  }
 },
 "nbformat": 4,
 "nbformat_minor": 5
}
