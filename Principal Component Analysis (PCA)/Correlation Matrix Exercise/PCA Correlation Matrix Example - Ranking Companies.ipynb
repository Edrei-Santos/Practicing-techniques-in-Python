{
 "cells": [
  {
   "cell_type": "markdown",
   "id": "70a30ee7",
   "metadata": {},
   "source": [
    "# Example of PCA using the correlation matrix\n",
    "\n",
    "Author: Edrei Santos"
   ]
  },
  {
   "cell_type": "code",
   "execution_count": null,
   "id": "e9bda65a",
   "metadata": {},
   "outputs": [
    {
     "name": "stdout",
     "output_type": "stream",
     "text": [
      "[[ 9893   564 17689]\n",
      " [ 8776   389 17359]\n",
      " [13572  1103 18597]\n",
      " [ 6455   743  8745]\n",
      " [ 5129   203 14397]\n",
      " [ 5432   215  3467]\n",
      " [ 3807   385  4679]\n",
      " [ 3423   187  6754]\n",
      " [ 3708   127  2275]\n",
      " [ 3294   297  6754]\n",
      " [ 5433   432  5589]\n",
      " [ 6287   451  8972]]\n"
     ]
    }
   ],
   "source": [
    "# Importing data and libraries\n",
    "import numpy as np\n",
    "import polars as pl\n",
    "\n",
    "data = pl.read_excel(\"dados_brutos_cap3_mingoti.xlsx\")\n",
    "data = data.drop(data.columns[0])\n",
    "data = data.to_numpy()\n",
    "\n",
    "print(data)"
   ]
  }
 ],
 "metadata": {
  "kernelspec": {
   "display_name": "Python 3",
   "language": "python",
   "name": "python3"
  },
  "language_info": {
   "codemirror_mode": {
    "name": "ipython",
    "version": 3
   },
   "file_extension": ".py",
   "mimetype": "text/x-python",
   "name": "python",
   "nbconvert_exporter": "python",
   "pygments_lexer": "ipython3",
   "version": "3.13.3"
  }
 },
 "nbformat": 4,
 "nbformat_minor": 5
}
