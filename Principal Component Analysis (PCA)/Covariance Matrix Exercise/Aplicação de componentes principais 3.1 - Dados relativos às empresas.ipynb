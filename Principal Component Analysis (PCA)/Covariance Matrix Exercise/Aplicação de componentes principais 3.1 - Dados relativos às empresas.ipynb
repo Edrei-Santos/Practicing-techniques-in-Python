{
 "cells": [
  {
   "cell_type": "markdown",
   "id": "3a987254",
   "metadata": {},
   "source": [
    "# Exemplo de aplicação componentes principais 3.1 - Dados relativos às empresas"
   ]
  },
  {
   "cell_type": "code",
   "execution_count": 11,
   "id": "fb50cc22",
   "metadata": {},
   "outputs": [
    {
     "name": "stdout",
     "output_type": "stream",
     "text": [
      "Importing DataSet \n",
      " Gross P  Net G Heritage\n",
      "[[ 9893   564 17689]\n",
      " [ 8776   389 17359]\n",
      " [13572  1103 18597]\n",
      " [ 6455   743  8745]\n",
      " [ 5129   203 14397]\n",
      " [ 5432   215  3467]\n",
      " [ 3807   385  4679]\n",
      " [ 3423   187  6754]\n",
      " [ 3708   127  2275]\n",
      " [ 3294   297  6754]\n",
      " [ 5433   432  5589]\n",
      " [ 6287   451  8972]]\n"
     ]
    }
   ],
   "source": [
    "import numpy as np\n",
    "import polars as pl\n",
    "\n",
    "data = pl.read_excel('dados_brutos_cap3_mingoti.xlsx')\n",
    "data = data = data.drop(data.columns[0])\n",
    "data = data.to_numpy()\n",
    "\n",
    "print('Importing DataSet \\n Gross P  Net G Heritage')\n",
    "print(data)"
   ]
  },
  {
   "cell_type": "code",
   "execution_count": 12,
   "id": "aee6be48",
   "metadata": {},
   "outputs": [
    {
     "name": "stdout",
     "output_type": "stream",
     "text": [
      "Descriptive Stats \n",
      "\n",
      "Means [6267.41666667  424.66666667 9606.41666667] \n",
      "\n",
      "Standard Deviations [2958.83838295  264.41203116 5616.1170076 ] \n",
      "\n",
      "Minimums [3294  127 2275] \n",
      "\n",
      "Maximums [13572  1103 18597]\n"
     ]
    }
   ],
   "source": [
    "print('Descriptive Stats \\n')\n",
    "print('Means',np.mean(data, 0),'\\n')\n",
    "print('Standard Deviations',np.std(data, 0),'\\n')\n",
    "print('Minimums',np.min(data, 0),'\\n')\n",
    "print('Maximums',np.max(data, 0),)"
   ]
  },
  {
   "cell_type": "code",
   "execution_count": 13,
   "id": "612bd847",
   "metadata": {},
   "outputs": [
    {
     "name": "stdout",
     "output_type": "stream",
     "text": [
      "Covariance Matrix \n",
      " [[ 9550608.62878788   706121.06060606 14978232.53787879]\n",
      " [  706121.06060606    76269.51515152   933915.06060606]\n",
      " [14978232.53787879   933915.06060606 34408112.99242424]]\n"
     ]
    }
   ],
   "source": [
    "covMatrix = np.cov(data, rowvar = False)\n",
    "print('Covariance Matrix \\n', covMatrix)"
   ]
  },
  {
   "cell_type": "code",
   "execution_count": 14,
   "id": "0885dda7",
   "metadata": {},
   "outputs": [
    {
     "name": "stdout",
     "output_type": "stream",
     "text": [
      "Eigenvalues : [4.14743915e+07 2.53950713e+06 2.10925256e+04]\n",
      "\n",
      " Eigvectors :\n",
      " [[ 0.42509725  0.8997068   0.09909593]\n",
      " [ 0.02766083  0.09651661 -0.99494694]\n",
      " [ 0.90472493 -0.42569029 -0.01614231]]\n"
     ]
    }
   ],
   "source": [
    "eigVal, eigVec = np.linalg.eig(covMatrix)\n",
    "print('Eigenvalues :', eigVal)\n",
    "print('\\n Eigvectors :\\n', eigVec)"
   ]
  },
  {
   "cell_type": "code",
   "execution_count": 15,
   "id": "efa48fb6",
   "metadata": {},
   "outputs": [
    {
     "name": "stdout",
     "output_type": "stream",
     "text": [
      "[9.41850797e-01 5.76702086e-02 4.78994659e-04]\n"
     ]
    }
   ],
   "source": [
    "percentageExplainedByComponent = eigVal / np.sum(eigVal)\n",
    "print(percentageExplainedByComponent)"
   ]
  },
  {
   "cell_type": "code",
   "execution_count": 16,
   "id": "dc2ac409",
   "metadata": {},
   "outputs": [
    {
     "name": "stdout",
     "output_type": "stream",
     "text": [
      "Correlation between components and original variables: \n",
      "    Component 1     Component 2     Component 3\n",
      " [[ 8.85855291e-01  4.63938267e-01  4.65698236e-03]\n",
      " [ 6.45029692e-01  5.56930874e-01 -5.23225283e-01]\n",
      " [ 9.93290182e-01 -1.15647974e-01 -3.99668177e-04]]\n"
     ]
    }
   ],
   "source": [
    "varArray = np.diag(covMatrix)\n",
    "\n",
    "Component_Variable_correlation_matrix = eigVec * np.sqrt(eigVal) / np.sqrt(varArray[:, np.newaxis])\n",
    "\n",
    "print('Correlation between components and original variables: \\n    Component 1     Component 2     Component 3\\n',Component_Variable_correlation_matrix)"
   ]
  },
  {
   "cell_type": "code",
   "execution_count": 17,
   "id": "c62a3fa6",
   "metadata": {},
   "outputs": [
    {
     "name": "stdout",
     "output_type": "stream",
     "text": [
      "First Component Scores: \n",
      " [20224.76716464 19446.53366209 22625.09937764 10676.37429662\n",
      " 15211.26381976  5451.75669095  5862.20261865  7570.79266768\n",
      "  3638.02275626  7518.99781347  7378.01049745 10802.25355641]\n"
     ]
    }
   ],
   "source": [
    "firstComponentScores = data @ eigVec[:,0]\n",
    "\n",
    "print('First Component Scores: \\n', firstComponentScores)"
   ]
  },
  {
   "cell_type": "code",
   "execution_count": 18,
   "id": "7663032d",
   "metadata": {},
   "outputs": [
    {
     "name": "stdout",
     "output_type": "stream",
     "text": [
      "Ranking: \n",
      "\n",
      "1st Place:  22625.09937764474  Company Nº: [2]\n",
      "Last Place:  3638.0227562603063  Company Nº: [8]\n"
     ]
    }
   ],
   "source": [
    "print('Ranking: \\n')\n",
    "print('1st Place: ', np.max(firstComponentScores) , ' Company Nº:', np.where(firstComponentScores == np.max(firstComponentScores))[0] )\n",
    "print('Last Place: ', np.min(firstComponentScores), ' Company Nº:', np.where(firstComponentScores == np.min(firstComponentScores))[0] )"
   ]
  }
 ],
 "metadata": {
  "kernelspec": {
   "display_name": "Python 3",
   "language": "python",
   "name": "python3"
  },
  "language_info": {
   "codemirror_mode": {
    "name": "ipython",
    "version": 3
   },
   "file_extension": ".py",
   "mimetype": "text/x-python",
   "name": "python",
   "nbconvert_exporter": "python",
   "pygments_lexer": "ipython3",
   "version": "3.13.3"
  }
 },
 "nbformat": 4,
 "nbformat_minor": 5
}
